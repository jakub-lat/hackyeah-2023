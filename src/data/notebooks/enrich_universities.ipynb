{
 "cells": [
  {
   "cell_type": "code",
   "execution_count": null,
   "id": "fde925b7-51e9-47e2-99a7-524e8143a17c",
   "metadata": {},
   "outputs": [],
   "source": []
  },
  {
   "cell_type": "code",
   "execution_count": 1,
   "id": "2ac5b3e7-0492-48b8-99ec-ec30ddc2b05b",
   "metadata": {},
   "outputs": [
    {
     "data": {
      "text/plain": [
       "757"
      ]
     },
     "execution_count": 1,
     "metadata": {},
     "output_type": "execute_result"
    }
   ],
   "source": [
    "import json\n",
    "\n",
    "with open(\"../universities.json\") as f:\n",
    "    data_dict = json.load(f)\n",
    "\n",
    "len(data_dict)"
   ]
  },
  {
   "cell_type": "code",
   "execution_count": 2,
   "id": "572718d4-ee9a-4254-846f-764893bb1b8d",
   "metadata": {},
   "outputs": [
    {
     "data": {
      "text/plain": [
       "{'name': 'Akademia Ateneum w Gdańsku',\n",
       " 'latitude': 54.3599386,\n",
       " 'longitude': 18.6432946,\n",
       " 'geoHash': 'u3tm0pzts7',\n",
       " 'city': 'Gdańsk'}"
      ]
     },
     "execution_count": 2,
     "metadata": {},
     "output_type": "execute_result"
    }
   ],
   "source": [
    "data_dict[0]"
   ]
  },
  {
   "cell_type": "code",
   "execution_count": 5,
   "id": "19767faa-10e4-4b2c-9c0b-824b2f494d64",
   "metadata": {},
   "outputs": [],
   "source": [
    "tags = [\n",
    "    {\n",
    "        \"name\": \"Studia po angielsku\",\n",
    "        \"type\": \"bool\"\n",
    "    },\n",
    "    {\n",
    "        \"name\": \"Możliwość studiów zaocznych\",\n",
    "        \"type\": \"bool\"\n",
    "    },\n",
    "    {\n",
    "        \"name\": \"Dostępność akademików\",\n",
    "        \"type\": \"bool\"\n",
    "    },\n",
    "    {\n",
    "        \"name\": \"Cena mieszkań w okolicy\",\n",
    "        \"type\": \"score\"\n",
    "    },\n",
    "    {\n",
    "        \"name\": \"Koszty życia\",\n",
    "        \"type\": \"score\"\n",
    "    },\n",
    "    {\n",
    "        \"name\": \"Możliwość studiów zdalnych\",\n",
    "        \"type\": \"bool\"\n",
    "    },\n",
    "    {\n",
    "        \"name\": \"Prywatna uczelnia\",\n",
    "        \"type\": \"bool\"\n",
    "    },\n",
    "    {\n",
    "        \"name\": \"Cena\",\n",
    "        \"type\": \"score\"\n",
    "    },\n",
    "    {\n",
    "        \"name\": \"Wsparcie dla studentów z niepełnosprawnościami\",\n",
    "        \"type\": \"bool\"\n",
    "    },\n",
    "    {\n",
    "        \"name\": \"Infrastruktura sportowa\",\n",
    "        \"type\": \"bool\"\n",
    "    },\n",
    "    {\n",
    "        \"name\": \"Aktywność organizacji studenckich\",\n",
    "        \"type\": \"bool\"\n",
    "    },\n",
    "    {\n",
    "        \"name\": \"Dostępność programów wymiany studenckiej\",\n",
    "        \"type\": \"bool\"\n",
    "    },\n",
    "    {\n",
    "        \"name\": \"Wskaźnik zatrudnienia absolwentów\",\n",
    "        \"type\": \"score\"\n",
    "    },\n",
    "    {\n",
    "        \"name\": \"Dostępność stypendiów\",\n",
    "        \"type\": \"bool\"\n",
    "    },\n",
    "    {\n",
    "        \"name\": \"Dostępność biblioteki na kampusie\",\n",
    "        \"type\": \"bool\"\n",
    "    }\n",
    "]"
   ]
  },
  {
   "cell_type": "code",
   "execution_count": 40,
   "id": "948db63f-2b1a-4bce-b1a1-965b87ff5999",
   "metadata": {},
   "outputs": [
    {
     "data": {
      "text/plain": [
       "15"
      ]
     },
     "execution_count": 40,
     "metadata": {},
     "output_type": "execute_result"
    }
   ],
   "source": [
    "len(tags)"
   ]
  },
  {
   "cell_type": "code",
   "execution_count": 41,
   "id": "aa937b41-1c60-4e97-ae45-bb6ad29f1c2e",
   "metadata": {},
   "outputs": [
    {
     "data": {
      "text/plain": [
       "[{'name': 'Studia po angielsku', 'type': 'bool'},\n",
       " {'name': 'Możliwość studiów zaocznych', 'type': 'bool'},\n",
       " {'name': 'Dostępność akademików', 'type': 'bool'},\n",
       " {'name': 'Cena mieszkań w okolicy', 'type': 'score'},\n",
       " {'name': 'Koszty życia', 'type': 'score'},\n",
       " {'name': 'Możliwość studiów zdalnych', 'type': 'bool'},\n",
       " {'name': 'Prywatna uczelnia', 'type': 'bool'},\n",
       " {'name': 'Cena', 'type': 'score'},\n",
       " {'name': 'Wsparcie dla studentów z niepełnosprawnościami', 'type': 'bool'},\n",
       " {'name': 'Infrastruktura sportowa', 'type': 'bool'},\n",
       " {'name': 'Aktywność organizacji studenckich', 'type': 'bool'},\n",
       " {'name': 'Dostępność programów wymiany studenckiej', 'type': 'bool'},\n",
       " {'name': 'Wskaźnik zatrudnienia absolwentów', 'type': 'score'},\n",
       " {'name': 'Dostępność stypendiów', 'type': 'bool'},\n",
       " {'name': 'Dostępność biblioteki na kampusie', 'type': 'bool'}]"
      ]
     },
     "execution_count": 41,
     "metadata": {},
     "output_type": "execute_result"
    }
   ],
   "source": [
    "tags"
   ]
  },
  {
   "cell_type": "code",
   "execution_count": 14,
   "id": "c2c40a5a-5433-4aeb-a231-c2ddad196b75",
   "metadata": {},
   "outputs": [],
   "source": [
    "import numpy as np"
   ]
  },
  {
   "cell_type": "code",
   "execution_count": 35,
   "id": "926abd9f-9635-45e9-aed9-8771d7464bd5",
   "metadata": {},
   "outputs": [],
   "source": [
    "def generate_random():\n",
    "    res = {}\n",
    "    for tag in tags:\n",
    "        if tag[\"type\"] == 'bool':\n",
    "           res[tag[\"name\"]] = np.random.rand() < 0.5\n",
    "        else:\n",
    "            res[tag[\"name\"]] = np.random.randint(0, 11)\n",
    "    return res"
   ]
  },
  {
   "cell_type": "code",
   "execution_count": 37,
   "id": "27c99c67-c288-46c3-bb51-7a0586f3929f",
   "metadata": {},
   "outputs": [],
   "source": [
    "for x in data_dict:\n",
    "    tags_scored = generate_random()\n",
    "    x[\"tags_scored\"] = tags_scored"
   ]
  },
  {
   "cell_type": "code",
   "execution_count": 38,
   "id": "709fecac-4ceb-4e04-b09d-bc1a180b473d",
   "metadata": {},
   "outputs": [],
   "source": [
    "with open(\"../universities_with_tags_scored.json\", \"w\", encoding=\"UTF-8\") as f:\n",
    "    # f.write(json_object)\n",
    "    json.dump(data_dict, f, ensure_ascii=False)"
   ]
  },
  {
   "cell_type": "code",
   "execution_count": 39,
   "id": "06fc8055-9803-441d-b625-aebb777a8442",
   "metadata": {},
   "outputs": [
    {
     "data": {
      "text/plain": [
       "{'Studia po angielsku': True,\n",
       " 'Możliwość studiów zaocznych': False,\n",
       " 'Dostępność akademików': False,\n",
       " 'Cena mieszkań w okolicy': 3,\n",
       " 'Koszty życia': 3,\n",
       " 'Możliwość studiów zdalnych': True,\n",
       " 'Prywatna uczelnia': False,\n",
       " 'Cena': 9,\n",
       " 'Wsparcie dla studentów z niepełnosprawnościami': False,\n",
       " 'Infrastruktura sportowa': True,\n",
       " 'Aktywność organizacji studenckich': False,\n",
       " 'Dostępność programów wymiany studenckiej': True,\n",
       " 'Wskaźnik zatrudnienia absolwentów': 7,\n",
       " 'Dostępność stypendiów': True,\n",
       " 'Dostępność biblioteki na kampusie': True}"
      ]
     },
     "execution_count": 39,
     "metadata": {},
     "output_type": "execute_result"
    }
   ],
   "source": [
    "\n",
    "data_dict[0][\"tags_scored\"]\n"
   ]
  },
  {
   "cell_type": "code",
   "execution_count": null,
   "id": "e2b2ff88-4f3b-4682-b121-42793f1a1440",
   "metadata": {},
   "outputs": [],
   "source": []
  }
 ],
 "metadata": {
  "kernelspec": {
   "display_name": "Python 3 (ipykernel)",
   "language": "python",
   "name": "python3"
  },
  "language_info": {
   "codemirror_mode": {
    "name": "ipython",
    "version": 3
   },
   "file_extension": ".py",
   "mimetype": "text/x-python",
   "name": "python",
   "nbconvert_exporter": "python",
   "pygments_lexer": "ipython3",
   "version": "3.11.5"
  }
 },
 "nbformat": 4,
 "nbformat_minor": 5
}
